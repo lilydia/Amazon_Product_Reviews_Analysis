{
  "nbformat": 4,
  "nbformat_minor": 0,
  "metadata": {
    "colab": {
      "name": "SentimentAnalysis_Py.ipynb",
      "provenance": [],
      "authorship_tag": "ABX9TyMbjiifZOa/Nb7QNfeXxiG2",
      "include_colab_link": true
    },
    "kernelspec": {
      "name": "python3",
      "display_name": "Python 3"
    },
    "accelerator": "GPU"
  },
  "cells": [
    {
      "cell_type": "markdown",
      "metadata": {
        "id": "view-in-github",
        "colab_type": "text"
      },
      "source": [
        "<a href=\"https://colab.research.google.com/github/lilydia/Amazon_Product_Reviews_Analysis/blob/master/SentimentAnalysis_Py.ipynb\" target=\"_parent\"><img src=\"https://colab.research.google.com/assets/colab-badge.svg\" alt=\"Open In Colab\"/></a>"
      ]
    },
    {
      "cell_type": "code",
      "metadata": {
        "id": "f5NDXrN2CtH7",
        "colab_type": "code",
        "colab": {}
      },
      "source": [
        "import gzip\n",
        "import json\n",
        "import os\n",
        "import string\n",
        "import pandas as pd\n",
        "from urllib.request import urlopen\n",
        "from bs4 import BeautifulSoup\n",
        "import nltk\n",
        "from nltk.corpus import stopwords\n",
        "from nltk.tokenize import RegexpTokenizer\n",
        "from nltk.stem import WordNetLemmatizer\n",
        "from nltk.stem.porter import PorterStemmer\n",
        "from nltk.sentiment.vader import SentimentIntensityAnalyzer\n",
        "from collections import Counter\n",
        "\n",
        "nltk.download('stopwords')\n",
        "nltk.download('vader_lexicon')\n",
        "!wget http://deepyeti.ucsd.edu/jianmo/amazon/sample/meta_Computers.json.gz #get amazon dataset"
      ],
      "execution_count": null,
      "outputs": []
    },
    {
      "cell_type": "code",
      "metadata": {
        "id": "v0J6dEzRgHUo",
        "colab_type": "code",
        "colab": {
          "base_uri": "https://localhost:8080/",
          "height": 141
        },
        "outputId": "fd30ab83-0eba-4c29-c41e-2c16e16cfa96"
      },
      "source": [
        "##### LOADING DATA\n",
        "data = []\n",
        "with gzip.open('meta_Computers.json.gz') as f:\n",
        "    for l in f:\n",
        "        data.append(json.loads(l.strip()))\n",
        "    \n",
        "\n",
        "print(\"-- VIEW TOTAL # OF PRODUCTS:\")\n",
        "print(len(data))\n",
        "print(\"-- VIEW PRODUCT DETAILS:\")\n",
        "print(data[0])\n",
        "\n",
        "\n",
        "df = pd.DataFrame.from_dict(data)\n",
        "print(\"-- CONFIRM LIST->DATAFRAME CONVERSION:\")\n",
        "print(len(df))"
      ],
      "execution_count": 7,
      "outputs": [
        {
          "output_type": "stream",
          "text": [
            "-- VIEW TOTAL # OF PRODUCTS:\n",
            "18772\n",
            "-- VIEW PRODUCT DETAILS:\n",
            "{'description': ['Brand new. Still in factory-sealed plastic.'], 'title': 'Kelby Training DVD: The Adobe Photoshop CS5 7-Point System for Camera Raw By Scott Kelby', 'image': ['https://images-na.ssl-images-amazon.com/images/I/31IlLImCVJL._SS40_.jpg'], 'brand': 'Kelby Training', 'rank': ['>#654,681 in Electronics (See Top 100 in Electronics)'], 'main_cat': 'Computers', 'date': 'December 2, 2011', 'asin': '0321732960'}\n",
            "-- CONFIRM LIST->DATAFRAME CONVERSION:\n",
            "18772\n"
          ],
          "name": "stdout"
        }
      ]
    },
    {
      "cell_type": "code",
      "metadata": {
        "id": "qmb7WOAXkOLq",
        "colab_type": "code",
        "colab": {
          "base_uri": "https://localhost:8080/",
          "height": 398
        },
        "outputId": "d06afff4-e592-48da-d95f-a7525dc49bc1"
      },
      "source": [
        "##### CLEANING DATA\n",
        "\n",
        "df3 = df.fillna('')\n",
        "df4 = df3[df3.title.str.contains('getTime')] # isolate unformatted rows (ie. content in html format)\n",
        "df5 = df3[~df3.title.str.contains('getTime')] # remove those unformatted rows\n",
        "print(\"-- # OF REMOVED PRODUCTS:\")\n",
        "print(len(df4))\n",
        "print(\"-- # OF PRODUCTS AFTER CLEANING:\")\n",
        "print(len(df5))\n",
        "print(\"-- CONFIRM DELETED CONTENT:\")\n",
        "print(df4.iloc[0])\n"
      ],
      "execution_count": 8,
      "outputs": [
        {
          "output_type": "stream",
          "text": [
            "-- # OF REMOVED PRODUCTS:\n",
            "135\n",
            "-- # OF PRODUCTS AFTER CLEANING:\n",
            "18637\n",
            "-- CONFIRM DELETED CONTENT:\n",
            "description                                                      \n",
            "title           var aPageStart = (new Date()).getTime();\\nvar ...\n",
            "image                                                            \n",
            "brand                                              DS Miller Inc.\n",
            "rank            [>#1,826,312 in Electronics (See Top 100 in El...\n",
            "main_cat                                                Computers\n",
            "date                                                March 1, 2010\n",
            "asin                                                   B0016C5EXY\n",
            "feature                                                          \n",
            "tech1                                                            \n",
            "also_buy                                                         \n",
            "price                                                            \n",
            "also_view                                                        \n",
            "tech2                                                            \n",
            "details                                                          \n",
            "similar_item                                                     \n",
            "Name: 1186, dtype: object\n"
          ],
          "name": "stdout"
        }
      ]
    },
    {
      "cell_type": "code",
      "metadata": {
        "id": "Eiv96hhfqlGt",
        "colab_type": "code",
        "colab": {
          "base_uri": "https://localhost:8080/",
          "height": 34
        },
        "outputId": "0062570f-6cd7-4f97-9943-6afd545a6eba"
      },
      "source": [
        "df5.shape #check dataframe shape"
      ],
      "execution_count": 9,
      "outputs": [
        {
          "output_type": "execute_result",
          "data": {
            "text/plain": [
              "(18637, 16)"
            ]
          },
          "metadata": {
            "tags": []
          },
          "execution_count": 9
        }
      ]
    },
    {
      "cell_type": "code",
      "metadata": {
        "id": "xTaSWoZctw8b",
        "colab_type": "code",
        "colab": {
          "base_uri": "https://localhost:8080/",
          "height": 311
        },
        "outputId": "0ac8cfd7-9e1b-4720-a4b6-63ffbccf46d1"
      },
      "source": [
        "print(df5.iloc[0]) #look at the 16 columns"
      ],
      "execution_count": 10,
      "outputs": [
        {
          "output_type": "stream",
          "text": [
            "description         [Brand new. Still in factory-sealed plastic.]\n",
            "title           Kelby Training DVD: The Adobe Photoshop CS5 7-...\n",
            "image           [https://images-na.ssl-images-amazon.com/image...\n",
            "brand                                              Kelby Training\n",
            "rank            [>#654,681 in Electronics (See Top 100 in Elec...\n",
            "main_cat                                                Computers\n",
            "date                                             December 2, 2011\n",
            "asin                                                   0321732960\n",
            "feature                                                          \n",
            "tech1                                                            \n",
            "also_buy                                                         \n",
            "price                                                            \n",
            "also_view                                                        \n",
            "tech2                                                            \n",
            "details                                                          \n",
            "similar_item                                                     \n",
            "Name: 0, dtype: object\n"
          ],
          "name": "stdout"
        }
      ]
    },
    {
      "cell_type": "code",
      "metadata": {
        "id": "Z8dVyCkqt7IL",
        "colab_type": "code",
        "colab": {
          "base_uri": "https://localhost:8080/",
          "height": 225
        },
        "outputId": "6f5f3373-c510-4071-b62b-6b0ace554fcb"
      },
      "source": [
        "df5['description'] #look into area of interest"
      ],
      "execution_count": 11,
      "outputs": [
        {
          "output_type": "execute_result",
          "data": {
            "text/plain": [
              "0            [Brand new. Still in factory-sealed plastic.]\n",
              "1        [If you're already a Photoshop user and want a...\n",
              "2        [School To Home Notes: Note From the Teacher!\\...\n",
              "3        [Dooqi is a young brand specializing in high-e...\n",
              "4                                      [Cover for Nook HD]\n",
              "                               ...                        \n",
              "18767                                                     \n",
              "18768                                                     \n",
              "18769    [Deadpool is a mercenary and anti-hero appeari...\n",
              "18770                                                     \n",
              "18771                                                     \n",
              "Name: description, Length: 18637, dtype: object"
            ]
          },
          "metadata": {
            "tags": []
          },
          "execution_count": 11
        }
      ]
    },
    {
      "cell_type": "code",
      "metadata": {
        "id": "c8odInLbvW73",
        "colab_type": "code",
        "colab": {
          "base_uri": "https://localhost:8080/",
          "height": 121
        },
        "outputId": "d56f531f-5651-4ee6-d22d-36bddf493cf1"
      },
      "source": [
        "##### TRANSFORMING DATA FOR TEXT ANALYTICS\n",
        "\n",
        "def remove_punctuation(text):\n",
        "  no_punct = \"\".join([w for w in text if w not in string.punctuation])\n",
        "  return no_punct\n",
        "\n",
        "def isolate_word(text):\n",
        "  tokenizer = RegexpTokenizer(r'\\w+')\n",
        "  return tokenizer.tokenize(text.lower())\n",
        "\n",
        "#stopwords like \"i, me, my, myself, you, he, she\"\n",
        "def remove_stopword(text):\n",
        "  no_stop = [w for w in text if w not in stopwords.words('english')]\n",
        "  return no_stop\n",
        "\n",
        "reviews_df = df5['description']\n",
        "reviews_df_try = reviews_df.apply(lambda x : remove_punctuation(x))\n",
        "reviews_df = reviews_df_try.apply(lambda x : remove_punctuation(x))\n",
        "reviews_df = reviews_df.apply(lambda x : isolate_word(x))\n",
        "reviews_df = reviews_df.apply(lambda x : remove_stopword(x))\n",
        "\n",
        "reviews_df.head()\n"
      ],
      "execution_count": 12,
      "outputs": [
        {
          "output_type": "execute_result",
          "data": {
            "text/plain": [
              "0          [brand, new, still, factorysealed, plastic]\n",
              "1    [youre, already, photoshop, user, want, quick,...\n",
              "2    [school, home, notes, note, teachernsuitable, ...\n",
              "3    [dooqi, young, brand, specializing, highend, s...\n",
              "4                                    [cover, nook, hd]\n",
              "Name: description, dtype: object"
            ]
          },
          "metadata": {
            "tags": []
          },
          "execution_count": 12
        }
      ]
    },
    {
      "cell_type": "code",
      "metadata": {
        "id": "JyqISh2SFJS7",
        "colab_type": "code",
        "colab": {}
      },
      "source": [
        "#####STEMMING VS. LEMMATIZING\n",
        "#convert prefixes and endings to root forms\n",
        "\n"
      ],
      "execution_count": null,
      "outputs": []
    },
    {
      "cell_type": "code",
      "metadata": {
        "id": "mYqVZtIrIHiR",
        "colab_type": "code",
        "colab": {
          "base_uri": "https://localhost:8080/",
          "height": 86
        },
        "outputId": "a6bed0dc-c32d-40b7-fbc7-70e689add93d"
      },
      "source": [
        "##### SENTIMENT ANALYSIS\n",
        "\n",
        "def sentiment_analyse_test(text):\n",
        "    score = SentimentIntensityAnalyzer().polarity_scores(text)\n",
        "    if score['neg'] > score['pos']:\n",
        "        print(\"Negative Sentiment detected in: \"+ \"[\" + text + \"]\" )\n",
        "    elif score['neg'] < score['pos']:\n",
        "        print(\"Positive Sentiment detected in: \"+ \"[\" + text + \"]\")\n",
        "    else:\n",
        "        print(\"Neutral Sentiment detected in: \"+ \"[\" + text + \"]\")\n",
        "\n",
        "#testing outcomes\n",
        "sentiment_analyse_test(\"I do not recommend this product.\")\n",
        "sentiment_analyse_test(\"I am happy about the purchase.\")\n",
        "sentiment_analyse_test(\"Brand new packaging. Ready to be used.\")\n",
        "\n",
        "sample_review = df5.description[0]\n",
        "# Convert to string\n",
        "full_str = ' '.join([str(elem) for elem in sample_review])\n",
        "\n",
        "sentiment_analyse_test(full_str)"
      ],
      "execution_count": 168,
      "outputs": [
        {
          "output_type": "stream",
          "text": [
            "Negative Sentiment detected in: [I do not recommend this product.]\n",
            "Positive Sentiment detected in: [I am happy about the purchase.]\n",
            "Positive Sentiment detected in: [Brand new packaging. Ready to be used.]\n",
            "Neutral Sentiment detected in: [Brand new. Still in factory-sealed plastic.]\n"
          ],
          "name": "stdout"
        }
      ]
    },
    {
      "cell_type": "code",
      "metadata": {
        "id": "335zknPvjvf_",
        "colab_type": "code",
        "colab": {
          "base_uri": "https://localhost:8080/",
          "height": 34
        },
        "outputId": "681309d4-50e5-47da-eea3-c0535380adf9"
      },
      "source": [
        "sents = []\n",
        "from collections import Counter\n",
        "\n",
        "def sentiment_analyse(text):\n",
        "    score = SentimentIntensityAnalyzer().polarity_scores(text)\n",
        "    if score['neg'] > score['pos']:\n",
        "        return 'NEGATIVE'\n",
        "    elif score['neg'] < score['pos']:\n",
        "        return 'POSITIVE'\n",
        "    else:\n",
        "        return 'NEUTRAL'\n",
        "\n",
        "for product in reviews_df:\n",
        "  full_str = ' '.join([str(elem) for elem in product])\n",
        "  sents.append(sentiment_analyse(full_str))\n",
        "\n",
        "w = Counter(sents)\n",
        "print(w)  \n"
      ],
      "execution_count": 17,
      "outputs": [
        {
          "output_type": "stream",
          "text": [
            "Counter({'NEUTRAL': 15152, 'POSITIVE': 3166, 'NEGATIVE': 319})\n"
          ],
          "name": "stdout"
        }
      ]
    },
    {
      "cell_type": "code",
      "metadata": {
        "id": "ZbRIiDexm6W7",
        "colab_type": "code",
        "colab": {
          "base_uri": "https://localhost:8080/",
          "height": 267
        },
        "outputId": "c976ebb5-0006-4097-b52b-644ef3b973c9"
      },
      "source": [
        "import matplotlib.pyplot as plt\n",
        "\n",
        "#####PLOTTING DATA\n",
        "fig, ax1 = plt.subplots()\n",
        "ax1.bar(w.keys(), w.values())\n",
        "fig.autofmt_xdate()\n",
        "plt.savefig('graph.png')\n",
        "plt.show()"
      ],
      "execution_count": 18,
      "outputs": [
        {
          "output_type": "display_data",
          "data": {
            "image/png": "[encoded data removed]",
            "text/plain": [
              "<Figure size 432x288 with 1 Axes>"
            ]
          },
          "metadata": {
            "tags": [],
            "needs_background": "light"
          }
        }
      ]
    }
  ]
}